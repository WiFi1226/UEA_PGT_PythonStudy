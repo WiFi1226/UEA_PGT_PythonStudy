{
 "cells": [
  {
   "cell_type": "markdown",
   "id": "88a638f6-cccb-4057-b8e3-dd81888eaa34",
   "metadata": {},
   "source": [
    "# Week 1: A quick introduction to Python"
   ]
  },
  {
   "cell_type": "markdown",
   "id": "fa1046b9-d36f-42cb-b601-8830608fd535",
   "metadata": {},
   "source": [
    "## Overview\n",
    "\n",
    "* This is a quick start.\n",
    "* The goal is to get you typing and executing code, and to introduce you to essential language features.\n",
    "* We will be omitting **a lot** of detail and nuance!\n",
    "* By the end of the workshop, you will have a basic grasp of key Python concepts and feel comfortable with Jupyter notebooks."
   ]
  },
  {
   "cell_type": "markdown",
   "id": "fb00f0a0-f263-4b60-8557-6d0f6979210c",
   "metadata": {},
   "source": [
    "## Expressions\n",
    "\n",
    "An **expression** is some combination of values, operations, and functions.  These are **evaluated** by Python and result in a **value**.\n",
    "\n",
    "We can therefore use Python as a **calculator**.\n",
    "\n",
    "To execute code, we do the following:\n",
    "* Type our expression (or our Python code more generally) in a **code cell**.\n",
    "* Hit **shift + enter** / **shift + return** on your keyboard.  (You can also click on the ▶ icon on the toolbar at the top of the page, but this is more work...!)"
   ]
  },
  {
   "cell_type": "code",
   "execution_count": 1,
   "id": "7bdc2d7d-1936-4935-a88b-12d8a06f7b5d",
   "metadata": {},
   "outputs": [
    {
     "data": {
      "text/plain": [
       "42"
      ]
     },
     "execution_count": 1,
     "metadata": {},
     "output_type": "execute_result"
    }
   ],
   "source": [
    "42"
   ]
  },
  {
   "cell_type": "code",
   "execution_count": 2,
   "id": "a5d870f7-768a-43cd-99d6-34c412372723",
   "metadata": {},
   "outputs": [
    {
     "data": {
      "text/plain": [
       "54"
      ]
     },
     "execution_count": 2,
     "metadata": {},
     "output_type": "execute_result"
    }
   ],
   "source": [
    "6 * 9"
   ]
  },
  {
   "cell_type": "code",
   "execution_count": 3,
   "id": "e8ffaa95-d709-4662-80e7-9683fe73241b",
   "metadata": {},
   "outputs": [
    {
     "data": {
      "text/plain": [
       "3.2"
      ]
     },
     "execution_count": 3,
     "metadata": {},
     "output_type": "execute_result"
    }
   ],
   "source": [
    "-1 + 4.2"
   ]
  },
  {
   "cell_type": "markdown",
   "id": "8877945a-9998-4461-8dff-31c3f822791b",
   "metadata": {},
   "source": [
    "Python supports the usual arithmetic operations of `+`, `-`, `*`, and `/`, as well as `%` for remainder and `**` for exponentiation."
   ]
  },
  {
   "cell_type": "code",
   "execution_count": 4,
   "id": "2da41146-48b8-497c-9d07-9278e557ea7c",
   "metadata": {},
   "outputs": [
    {
     "data": {
      "text/plain": [
       "1024"
      ]
     },
     "execution_count": 4,
     "metadata": {},
     "output_type": "execute_result"
    }
   ],
   "source": [
    "2**10"
   ]
  },
  {
   "cell_type": "markdown",
   "id": "e0e746a4-f3d0-4e14-94b5-04feb5c84cfc",
   "metadata": {},
   "source": [
    "Python follows the standard order of operations you've learned in maths: PEMDAS."
   ]
  },
  {
   "cell_type": "code",
   "execution_count": 5,
   "id": "e77f6569-9421-4697-bfbb-c294fb9594e1",
   "metadata": {},
   "outputs": [
    {
     "data": {
      "text/plain": [
       "3072"
      ]
     },
     "execution_count": 5,
     "metadata": {},
     "output_type": "execute_result"
    }
   ],
   "source": [
    "3 * 2 ** 10"
   ]
  },
  {
   "cell_type": "code",
   "execution_count": 6,
   "id": "e99fdcde-9378-46d6-80c9-e94c5ae52845",
   "metadata": {},
   "outputs": [
    {
     "data": {
      "text/plain": [
       "60466176"
      ]
     },
     "execution_count": 6,
     "metadata": {},
     "output_type": "execute_result"
    }
   ],
   "source": [
    "(3 * 2) ** 10"
   ]
  },
  {
   "cell_type": "markdown",
   "id": "9c0a361d-0e7b-4293-90eb-1c058484086b",
   "metadata": {},
   "source": [
    "<div>\n",
    "<img src=\"attachment:e0172721-e5ac-4f06-8a95-a48128a19405.png\" width=\"300\"/>\n",
    "</div>\n",
    "\n",
    "**EXERCISE**: Which is correct?  Write the \"correct\" expression in Python.  Then, write an expression in Python which generates the \"incorrect\" answer!"
   ]
  },
  {
   "cell_type": "code",
   "execution_count": 7,
   "id": "22d269a5-05bb-4bc3-9590-44f49b2ace6f",
   "metadata": {},
   "outputs": [
    {
     "data": {
      "text/plain": [
       "9.0"
      ]
     },
     "execution_count": 7,
     "metadata": {},
     "output_type": "execute_result"
    }
   ],
   "source": [
    "6 / 2 * (1+2)"
   ]
  },
  {
   "cell_type": "code",
   "execution_count": 8,
   "id": "3ab8f4a7-17d1-42db-b636-d156568485e3",
   "metadata": {},
   "outputs": [
    {
     "data": {
      "text/plain": [
       "1.0"
      ]
     },
     "execution_count": 8,
     "metadata": {},
     "output_type": "execute_result"
    }
   ],
   "source": [
    "6 / (2 * (1+2))"
   ]
  },
  {
   "cell_type": "markdown",
   "id": "070a7b48-f710-48f5-ade3-a6eff91f7d78",
   "metadata": {},
   "source": [
    "## Types\n",
    "\n",
    "Every value in Python is associated with a **type**.  A type records the kind of information the value has.  Python has a number of built-in types which we'll meet now.  We'll see later that some types can hold quite complicated values!\n",
    "\n",
    "In our above calculations, most of the values we worked with were integers, which in Python are type `int`.  You can ask Python about the type of any value by using `type()`:"
   ]
  },
  {
   "cell_type": "code",
   "execution_count": 9,
   "id": "d1a0c9c7-5683-43f4-bf6f-d95bcddcdfd7",
   "metadata": {},
   "outputs": [
    {
     "data": {
      "text/plain": [
       "int"
      ]
     },
     "execution_count": 9,
     "metadata": {},
     "output_type": "execute_result"
    }
   ],
   "source": [
    "type(42)"
   ]
  },
  {
   "cell_type": "markdown",
   "id": "e5e4899d-17f9-4bdb-9d1b-4d1aed57e24a",
   "metadata": {},
   "source": [
    "We also had value above that contained numbers to the right of the decimal point.  These are represented in Python as \"floating point\" numbers, `float`:"
   ]
  },
  {
   "cell_type": "code",
   "execution_count": 10,
   "id": "86066b52-484a-4d58-83b6-05abb2ce8db1",
   "metadata": {},
   "outputs": [
    {
     "data": {
      "text/plain": [
       "float"
      ]
     },
     "execution_count": 10,
     "metadata": {},
     "output_type": "execute_result"
    }
   ],
   "source": [
    "type(3.2)"
   ]
  },
  {
   "cell_type": "markdown",
   "id": "976a1365-7541-498e-bac0-cc8054f4592c",
   "metadata": {},
   "source": [
    "Python also has Boolean (truth) values, which are represented by values of type `bool`.  For numbers, we can use **comparison** operators like `==` (equality - note the double equals!), `!=` (inequality), `<` (less than), `<=` (less than or equal to), `>` (greater than), and `>=` (greater than or equal to)."
   ]
  },
  {
   "cell_type": "code",
   "execution_count": 11,
   "id": "bf412310-19ba-414d-83fd-13cccb42d719",
   "metadata": {},
   "outputs": [
    {
     "data": {
      "text/plain": [
       "False"
      ]
     },
     "execution_count": 11,
     "metadata": {},
     "output_type": "execute_result"
    }
   ],
   "source": [
    "42 == 6 * 9"
   ]
  },
  {
   "cell_type": "code",
   "execution_count": 12,
   "id": "0d29b5d2-3dbc-4052-bb98-2af5dcae3cc1",
   "metadata": {},
   "outputs": [
    {
     "data": {
      "text/plain": [
       "bool"
      ]
     },
     "execution_count": 12,
     "metadata": {},
     "output_type": "execute_result"
    }
   ],
   "source": [
    "type(42 == 6 * 9)"
   ]
  },
  {
   "cell_type": "markdown",
   "id": "6b9ac8b3-6a52-4e4c-befd-89579b4b8b5f",
   "metadata": {},
   "source": [
    "You can do logic on `bool`s using the operators `and`, `or`, and `not`"
   ]
  },
  {
   "cell_type": "code",
   "execution_count": 13,
   "id": "7652afaa-ef53-4521-b859-8ff86584e362",
   "metadata": {},
   "outputs": [
    {
     "data": {
      "text/plain": [
       "True"
      ]
     },
     "execution_count": 13,
     "metadata": {},
     "output_type": "execute_result"
    }
   ],
   "source": [
    "(6 == 2 + 4) and (8 == 2 * 4)"
   ]
  },
  {
   "cell_type": "markdown",
   "id": "79553fec-a50d-4182-8ba1-df429bac4bdc",
   "metadata": {},
   "source": [
    "EXERCISE: One of De Morgan's Laws of Boolean logic is that \"not (A and B)\" is the same as \"(not A) or (not B)\".  Demonstrate this with some suitable Python expressions involving facts about arithmetic!"
   ]
  },
  {
   "cell_type": "code",
   "execution_count": 14,
   "id": "f4be5b2e-0298-4b23-a448-bd050a1ef161",
   "metadata": {},
   "outputs": [
    {
     "data": {
      "text/plain": [
       "False"
      ]
     },
     "execution_count": 14,
     "metadata": {},
     "output_type": "execute_result"
    }
   ],
   "source": [
    "not ((6 == 2 + 4) and (8 == 2 * 4))"
   ]
  },
  {
   "cell_type": "code",
   "execution_count": 15,
   "id": "ac09e73f-7f15-4c56-99d6-75758232e78f",
   "metadata": {},
   "outputs": [
    {
     "data": {
      "text/plain": [
       "False"
      ]
     },
     "execution_count": 15,
     "metadata": {},
     "output_type": "execute_result"
    }
   ],
   "source": [
    "(6 != 2 + 4) or (8 != 2 * 4)"
   ]
  },
  {
   "cell_type": "markdown",
   "id": "fb07d337-d377-4920-8773-4f738f4b0edd",
   "metadata": {},
   "source": [
    "Python also has built-in support for **string**s, that is, text.  Strings can be enclosed either by single or double quotes.  So, the next two values are exactly the same."
   ]
  },
  {
   "cell_type": "code",
   "execution_count": 16,
   "id": "e0feda00-4384-4651-bd4b-5f108b40a418",
   "metadata": {},
   "outputs": [
    {
     "data": {
      "text/plain": [
       "'University of East Anglia'"
      ]
     },
     "execution_count": 16,
     "metadata": {},
     "output_type": "execute_result"
    }
   ],
   "source": [
    "\"University of East Anglia\""
   ]
  },
  {
   "cell_type": "code",
   "execution_count": 17,
   "id": "b8d204ac-c1a9-4a5d-bf80-aad4930dce08",
   "metadata": {},
   "outputs": [
    {
     "data": {
      "text/plain": [
       "'University of East Anglia'"
      ]
     },
     "execution_count": 17,
     "metadata": {},
     "output_type": "execute_result"
    }
   ],
   "source": [
    "'University of East Anglia'"
   ]
  },
  {
   "cell_type": "code",
   "execution_count": 18,
   "id": "ced25860-01c4-4b75-951e-f9597cb17e83",
   "metadata": {},
   "outputs": [
    {
     "data": {
      "text/plain": [
       "True"
      ]
     },
     "execution_count": 18,
     "metadata": {},
     "output_type": "execute_result"
    }
   ],
   "source": [
    "\"University of East Anglia\" == 'University of East Anglia'"
   ]
  },
  {
   "cell_type": "markdown",
   "id": "e7ae8cb1-ffcb-444f-b7cf-d239682e2b5f",
   "metadata": {},
   "source": [
    "## Variables"
   ]
  },
  {
   "cell_type": "markdown",
   "id": "e7286671-000d-4fc4-aabc-fbc73a1774ae",
   "metadata": {},
   "source": [
    "To write a useful program, we want to be able to store values and refer to them later.  A **variable** is a place to store a value.  We do this using an **assignment** statement.  This assigns the (integer) value 42 to the variable `answer`:"
   ]
  },
  {
   "cell_type": "code",
   "execution_count": 19,
   "id": "7d401703-e257-410e-bd5f-d0318e49c22e",
   "metadata": {},
   "outputs": [],
   "source": [
    "answer = 42"
   ]
  },
  {
   "cell_type": "markdown",
   "id": "03650e9d-a43a-4313-a030-ef4ac3221d48",
   "metadata": {},
   "source": [
    "Now, we can use `answer` expressions just like any other value.  What do you think the result of writing `answer + 5` would be?  And what is the type of `answer`?"
   ]
  },
  {
   "cell_type": "code",
   "execution_count": 20,
   "id": "cc91ba3f-68e0-4a9b-8625-65d234c32a29",
   "metadata": {},
   "outputs": [
    {
     "data": {
      "text/plain": [
       "47"
      ]
     },
     "execution_count": 20,
     "metadata": {},
     "output_type": "execute_result"
    }
   ],
   "source": [
    "answer + 5"
   ]
  },
  {
   "cell_type": "code",
   "execution_count": 21,
   "id": "57941124-4693-4eef-aed0-f9b2cdad8a55",
   "metadata": {},
   "outputs": [
    {
     "data": {
      "text/plain": [
       "int"
      ]
     },
     "execution_count": 21,
     "metadata": {},
     "output_type": "execute_result"
    }
   ],
   "source": [
    "type(answer)"
   ]
  },
  {
   "cell_type": "markdown",
   "id": "2b69132a-ecdf-4dc3-9efe-0c7cfcce658a",
   "metadata": {},
   "source": [
    "In Python, a variable is defined only when you first use it in an assignment statement."
   ]
  },
  {
   "cell_type": "code",
   "execution_count": 22,
   "id": "b912360f-12bc-40fe-94c5-9f482eabc886",
   "metadata": {},
   "outputs": [],
   "source": [
    "sylvester = \"cat\""
   ]
  },
  {
   "cell_type": "code",
   "execution_count": 23,
   "id": "9d9eac34-f4f0-48f4-8b7d-bc5c9748a3a5",
   "metadata": {},
   "outputs": [
    {
     "data": {
      "text/plain": [
       "'cat'"
      ]
     },
     "execution_count": 23,
     "metadata": {},
     "output_type": "execute_result"
    }
   ],
   "source": [
    "sylvester"
   ]
  },
  {
   "cell_type": "markdown",
   "id": "99e02b4e-dc6e-495d-b2b1-49de8a4bd49e",
   "metadata": {},
   "source": [
    "Variables can contain uppercase and lowercase letters, the digits 0-9, and underscores (except they cannot start with a digit).  Note they are case sensitive - uppercase and lowercase letters are not the same."
   ]
  },
  {
   "cell_type": "markdown",
   "id": "555402a8-a234-4bbb-b425-67ad6ca27aa8",
   "metadata": {},
   "source": [
    "## Built-in functions\n",
    "\n",
    "Aside from mathematical operations, Python also offers many built-in **functions** to operate on values.  These take zero or more **arguments** and return a value.  For example, you can take the maximum of two values:"
   ]
  },
  {
   "cell_type": "code",
   "execution_count": 24,
   "id": "6366cd37-e086-40c1-87c9-eefc504968c6",
   "metadata": {},
   "outputs": [
    {
     "data": {
      "text/plain": [
       "5"
      ]
     },
     "execution_count": 24,
     "metadata": {},
     "output_type": "execute_result"
    }
   ],
   "source": [
    "max(4, 5)"
   ]
  },
  {
   "cell_type": "markdown",
   "id": "6e421dde-d507-4689-99b8-e2edd445a806",
   "metadata": {},
   "source": [
    "Or the minimum of two values:"
   ]
  },
  {
   "cell_type": "code",
   "execution_count": 25,
   "id": "28f33242-558d-4f77-9c32-85e7ad1cd604",
   "metadata": {},
   "outputs": [
    {
     "data": {
      "text/plain": [
       "4"
      ]
     },
     "execution_count": 25,
     "metadata": {},
     "output_type": "execute_result"
    }
   ],
   "source": [
    "min(4, 5)"
   ]
  },
  {
   "cell_type": "markdown",
   "id": "e2f89e27-9c13-46c4-864e-419cc1557ed2",
   "metadata": {},
   "source": [
    "You can round a floating-point number:"
   ]
  },
  {
   "cell_type": "code",
   "execution_count": 26,
   "id": "5fc0e8a6-b534-467f-b77c-2b3a7d9636ba",
   "metadata": {},
   "outputs": [
    {
     "data": {
      "text/plain": [
       "3"
      ]
     },
     "execution_count": 26,
     "metadata": {},
     "output_type": "execute_result"
    }
   ],
   "source": [
    "round(3.14159)"
   ]
  },
  {
   "cell_type": "markdown",
   "id": "1633dc61-db52-4b1c-bb4f-dc5ba51eefef",
   "metadata": {},
   "source": [
    "It turns out that actually `round` can do more than just round to a whole number.  You can view documentation on any function by using `help()` - or putting `?` after a function's name:"
   ]
  },
  {
   "cell_type": "code",
   "execution_count": 27,
   "id": "3ff76e7b-d352-4a17-bade-c17c663bc067",
   "metadata": {},
   "outputs": [
    {
     "name": "stdout",
     "output_type": "stream",
     "text": [
      "Help on built-in function round in module builtins:\n",
      "\n",
      "round(number, ndigits=None)\n",
      "    Round a number to a given precision in decimal digits.\n",
      "    \n",
      "    The return value is an integer if ndigits is omitted or None.  Otherwise\n",
      "    the return value has the same type as the number.  ndigits may be negative.\n",
      "\n"
     ]
    }
   ],
   "source": [
    "help(round)"
   ]
  },
  {
   "cell_type": "code",
   "execution_count": 28,
   "id": "1797c162-cae1-487f-974a-2f9f0b35ab9b",
   "metadata": {},
   "outputs": [
    {
     "data": {
      "text/plain": [
       "<function round(number, ndigits=None)>"
      ]
     },
     "execution_count": 28,
     "metadata": {},
     "output_type": "execute_result"
    }
   ],
   "source": [
    "round"
   ]
  },
  {
   "cell_type": "markdown",
   "id": "a49a6a14-0704-4761-821f-e0748649ace9",
   "metadata": {},
   "source": [
    "From this we learn we can actually use `round` to round to any number of decimal places.  For example, if we want to round to 2 decimal places:"
   ]
  },
  {
   "cell_type": "code",
   "execution_count": 29,
   "id": "e8a16ac7-47a4-40d2-b4d7-2d19f7015f35",
   "metadata": {},
   "outputs": [
    {
     "data": {
      "text/plain": [
       "3.14"
      ]
     },
     "execution_count": 29,
     "metadata": {},
     "output_type": "execute_result"
    }
   ],
   "source": [
    "round(3.14159, 2)"
   ]
  },
  {
   "cell_type": "markdown",
   "id": "53f64112-fa75-40b2-9aff-c165bae94696",
   "metadata": {},
   "source": [
    "## The Python standard library: \"Batteries included\"\n",
    "\n",
    "<div>\n",
    "<img src=\"attachment:14468e8f-91ca-43f9-a145-e1a468807312.jpg\" width=\"300\"/>\n",
    "</div>\n",
    "\n",
    "\n",
    "\n",
    "An important part of Python's philosophy is \"batteries are included\" - Python comes with an extensive **standard library** of code for everything from basic maths to interacting with web servers.  These are organised in **module**s.\n",
    "\n",
    "Because there's so much code in the standard library, Python only loads it when you ask for it, via the ``import`` statement.\n",
    "\n",
    "So for example, a number of common math operations are organised in the ``math`` module:"
   ]
  },
  {
   "cell_type": "code",
   "execution_count": 30,
   "id": "78a28ddd-289a-4f6d-819a-308b02df7c21",
   "metadata": {},
   "outputs": [],
   "source": [
    "import math"
   ]
  },
  {
   "cell_type": "markdown",
   "id": "281722bf-cd26-410a-9a97-034f8f75e2be",
   "metadata": {},
   "source": [
    "To use functions or values that are part of a module, you prepend the module name.  To call the \"square root\" function `sqrt` from the `math` module,"
   ]
  },
  {
   "cell_type": "code",
   "execution_count": 31,
   "id": "05bbc879-c350-459e-842c-d5ed90d3c0c7",
   "metadata": {},
   "outputs": [
    {
     "data": {
      "text/plain": [
       "4.0"
      ]
     },
     "execution_count": 31,
     "metadata": {},
     "output_type": "execute_result"
    }
   ],
   "source": [
    "math.sqrt(16)"
   ]
  },
  {
   "cell_type": "code",
   "execution_count": 32,
   "id": "6fbd2dd6-7e5a-49b4-bed7-edd22dcac7c4",
   "metadata": {},
   "outputs": [
    {
     "data": {
      "text/plain": [
       "16.0"
      ]
     },
     "execution_count": 32,
     "metadata": {},
     "output_type": "execute_result"
    }
   ],
   "source": [
    "math.pow(2, 4)"
   ]
  },
  {
   "cell_type": "markdown",
   "id": "f86f3806-9bf0-48c1-8f1f-e545e4373c22",
   "metadata": {},
   "source": [
    "EXERCISE: You'll recall from maths that logarithms can be taken with respect to different **bases**.  Usually in economics we tend to use the natural logarithm.  The Python function for logarithm is `math.log`.  How would you figure out what's the correct way to call it to get the natural log?"
   ]
  },
  {
   "cell_type": "code",
   "execution_count": 33,
   "id": "ede14bcf-1ece-47df-b596-23f3e69d56f0",
   "metadata": {},
   "outputs": [
    {
     "name": "stdout",
     "output_type": "stream",
     "text": [
      "Help on built-in function log in module math:\n",
      "\n",
      "log(...)\n",
      "    log(x, [base=math.e])\n",
      "    Return the logarithm of x to the given base.\n",
      "    \n",
      "    If the base not specified, returns the natural logarithm (base e) of x.\n",
      "\n"
     ]
    }
   ],
   "source": [
    "help(math.log)"
   ]
  },
  {
   "cell_type": "markdown",
   "id": "785d5c7d-279e-4e73-a4e2-69230e001738",
   "metadata": {},
   "source": [
    "Modules can also extend Python with new, more complex types.  For example, in the Python standard library there is a module `datetime` which - you guessed it! - allows you to do calculations with dates and times.  This can be particularly useful in economics given that we often encounter time-series data, so having values which are dates and/or times can come in handy!"
   ]
  },
  {
   "cell_type": "code",
   "execution_count": 34,
   "id": "78647d22-0e45-4b1c-8c70-cd2350bc3c1b",
   "metadata": {},
   "outputs": [],
   "source": [
    "import datetime"
   ]
  },
  {
   "cell_type": "code",
   "execution_count": 35,
   "id": "09ee92dd-58dd-46e5-84fc-97b763ce92b0",
   "metadata": {},
   "outputs": [
    {
     "data": {
      "text/plain": [
       "datetime.date(2023, 10, 2)"
      ]
     },
     "execution_count": 35,
     "metadata": {},
     "output_type": "execute_result"
    }
   ],
   "source": [
    "datetime.date.today()"
   ]
  },
  {
   "cell_type": "code",
   "execution_count": 36,
   "id": "8a4b8329-0f15-4dac-b14e-090aa5db68b2",
   "metadata": {},
   "outputs": [
    {
     "data": {
      "text/plain": [
       "datetime.datetime(2023, 10, 2, 16, 52, 10, 361131)"
      ]
     },
     "execution_count": 36,
     "metadata": {},
     "output_type": "execute_result"
    }
   ],
   "source": [
    "datetime.datetime.now()"
   ]
  },
  {
   "cell_type": "markdown",
   "id": "2ca6ed49-2254-4913-999e-8eb8e59f6434",
   "metadata": {},
   "source": [
    "Dates and times support the operations you'd logically expect them to.  For example, you can compute how many days is it until New Year's Day.  Dates are smart enough to handle all of the faff with months having different lengths, leap years, and so on..."
   ]
  },
  {
   "cell_type": "code",
   "execution_count": 37,
   "id": "c330cf89-7e75-4df3-bece-addda1d632be",
   "metadata": {},
   "outputs": [
    {
     "data": {
      "text/plain": [
       "datetime.timedelta(days=91)"
      ]
     },
     "execution_count": 37,
     "metadata": {},
     "output_type": "execute_result"
    }
   ],
   "source": [
    "datetime.date(2024, 1, 1) - datetime.date.today()"
   ]
  },
  {
   "cell_type": "markdown",
   "id": "655a749c-1fa6-46a9-828a-ed485e55a815",
   "metadata": {},
   "source": [
    "We'll leave off the discussion of dates and times for now.  The important point is that modules allow progammers to extend Python with types which can contain quite complex values and handle quite complex calculations with very little code written by users (like us!)  As we'll discuss next week, modules can also be written by third parties and you can install them for your own use - a mechanism which will be absolutely central to what we will do on the module!"
   ]
  },
  {
   "cell_type": "markdown",
   "id": "82a84202-9564-475e-a468-5da76e237973",
   "metadata": {},
   "source": [
    "## Data structures: lists and dicts\n",
    "\n",
    "A `list` is a data structure which consists of zero or more values.  Lists are indicated by enclosing values in square brackets `[` and `]`.  Here's a list of cities in the UK."
   ]
  },
  {
   "cell_type": "code",
   "execution_count": 38,
   "id": "df7fdde7-66bb-4365-a11e-6a348ff6504f",
   "metadata": {},
   "outputs": [],
   "source": [
    "cities = [\"Norwich\", \"London\", \"Cardiff\", \"Aberdeen\", \"Belfast\"]"
   ]
  },
  {
   "cell_type": "markdown",
   "id": "7fb3d984-9d05-456e-b15b-8e9418c4dab2",
   "metadata": {},
   "source": [
    "You can access individual members of a list by their index number.  By convention, the index of the first element of a list is `0`."
   ]
  },
  {
   "cell_type": "code",
   "execution_count": 39,
   "id": "0801dcc8-5b16-4436-8adb-3f65c77860ab",
   "metadata": {},
   "outputs": [
    {
     "data": {
      "text/plain": [
       "'Norwich'"
      ]
     },
     "execution_count": 39,
     "metadata": {},
     "output_type": "execute_result"
    }
   ],
   "source": [
    "cities[0]"
   ]
  },
  {
   "cell_type": "code",
   "execution_count": 40,
   "id": "95a8d334-8391-4bbe-9f59-d3a39f8c75d4",
   "metadata": {},
   "outputs": [
    {
     "data": {
      "text/plain": [
       "'Aberdeen'"
      ]
     },
     "execution_count": 40,
     "metadata": {},
     "output_type": "execute_result"
    }
   ],
   "source": [
    "cities[3]"
   ]
  },
  {
   "cell_type": "markdown",
   "id": "6418987d-15a4-480a-9a4a-ef50d0c657e2",
   "metadata": {},
   "source": [
    "A useful convention - but also one that can be surprising or lead to bugs at first! - is that if you use a negative index, this counts *backwards* from the *end* of the list.  The last list element is `-1`:"
   ]
  },
  {
   "cell_type": "code",
   "execution_count": 41,
   "id": "b6877800-f4b1-4db0-88e4-05c6d3c2a14d",
   "metadata": {},
   "outputs": [
    {
     "data": {
      "text/plain": [
       "'Belfast'"
      ]
     },
     "execution_count": 41,
     "metadata": {},
     "output_type": "execute_result"
    }
   ],
   "source": [
    "cities[-1]"
   ]
  },
  {
   "cell_type": "markdown",
   "id": "8dd4721d-26f6-47e9-a42f-b4e36c330154",
   "metadata": {},
   "source": [
    "You can find out how many elements there are in a list:"
   ]
  },
  {
   "cell_type": "code",
   "execution_count": 42,
   "id": "4da6fc16-d1b6-4741-8571-4525586da768",
   "metadata": {},
   "outputs": [
    {
     "data": {
      "text/plain": [
       "5"
      ]
     },
     "execution_count": 42,
     "metadata": {},
     "output_type": "execute_result"
    }
   ],
   "source": [
    "len(cities)"
   ]
  },
  {
   "cell_type": "markdown",
   "id": "5fedb735-4917-4346-aeac-f63d74de638f",
   "metadata": {},
   "source": [
    "You can check if an element is in a list:"
   ]
  },
  {
   "cell_type": "code",
   "execution_count": 43,
   "id": "5374c1e8-79c4-4845-b84b-6ff442ae1bc5",
   "metadata": {},
   "outputs": [
    {
     "data": {
      "text/plain": [
       "True"
      ]
     },
     "execution_count": 43,
     "metadata": {},
     "output_type": "execute_result"
    }
   ],
   "source": [
    "\"London\" in cities"
   ]
  },
  {
   "cell_type": "code",
   "execution_count": 44,
   "id": "4d1627b6-bafb-4d34-b1fd-1ea56c9083ea",
   "metadata": {},
   "outputs": [
    {
     "data": {
      "text/plain": [
       "False"
      ]
     },
     "execution_count": 44,
     "metadata": {},
     "output_type": "execute_result"
    }
   ],
   "source": [
    "\"Ipswich\" in cities"
   ]
  },
  {
   "cell_type": "markdown",
   "id": "8867cb09-fee0-4b4a-a868-84497d060da6",
   "metadata": {},
   "source": [
    "Remember, however, that (just about) everything is case-sensitive!"
   ]
  },
  {
   "cell_type": "code",
   "execution_count": 45,
   "id": "c4ac70b8-beba-46cd-86ba-ecd56dc28fe4",
   "metadata": {},
   "outputs": [
    {
     "data": {
      "text/plain": [
       "False"
      ]
     },
     "execution_count": 45,
     "metadata": {},
     "output_type": "execute_result"
    }
   ],
   "source": [
    "\"london\" in cities"
   ]
  },
  {
   "cell_type": "markdown",
   "id": "dad43611-a1a9-45d7-86e7-d3a2b4644d91",
   "metadata": {},
   "source": [
    "A `dict` (short for \"dictionary\") is a **mapping** between one set of values and another set of values.  For example, suppose we wanted to have a table that matched up our cities with the constituent country of the UK they are located in.  We could create a `dict` like below.  When writing a `dict` in code, the most common syntax is to have a list of \"key-value\" pairs, surrounded by the curly-braces `{` and `}`:"
   ]
  },
  {
   "cell_type": "code",
   "execution_count": 46,
   "id": "a895e7f8-4a4f-431d-839e-2255a7fbc5ae",
   "metadata": {},
   "outputs": [],
   "source": [
    "countries = {\n",
    "    \"Norwich\": \"England\",\n",
    "    \"London\": \"England\",\n",
    "    \"Cardiff\": \"Wales\",\n",
    "    \"Aberdeen\": \"Scotland\",\n",
    "    \"Belfast\": \"Northern Ireland\"\n",
    "}"
   ]
  },
  {
   "cell_type": "markdown",
   "id": "e45800b9-c510-4ef9-bb79-365e5bc86bf1",
   "metadata": {},
   "source": [
    "Just like lists, `dict`s have a size equal to the number of elements in the mapping:"
   ]
  },
  {
   "cell_type": "code",
   "execution_count": 47,
   "id": "fdc4c2db-64b3-4982-9d50-e84f0f3e3040",
   "metadata": {},
   "outputs": [
    {
     "data": {
      "text/plain": [
       "5"
      ]
     },
     "execution_count": 47,
     "metadata": {},
     "output_type": "execute_result"
    }
   ],
   "source": [
    "len(countries)"
   ]
  },
  {
   "cell_type": "markdown",
   "id": "708390c3-edf4-40a6-ab7b-4046c52cf032",
   "metadata": {},
   "source": [
    "A `dict` differs from a `list` in that lists are always indexed by a value's order in the sequence, while to access values in a `dict` you use a key, which can be any type.  Our `countries` dict happens to have keys which are `str`, so we could do this:"
   ]
  },
  {
   "cell_type": "code",
   "execution_count": 48,
   "id": "2592bee0-d11b-40b7-8334-5f21158c0741",
   "metadata": {},
   "outputs": [
    {
     "data": {
      "text/plain": [
       "'England'"
      ]
     },
     "execution_count": 48,
     "metadata": {},
     "output_type": "execute_result"
    }
   ],
   "source": [
    "countries[\"Norwich\"]"
   ]
  },
  {
   "cell_type": "markdown",
   "id": "d1aac48d-b0b2-43a6-9648-ee15da39962f",
   "metadata": {},
   "source": [
    "But we can't do this:"
   ]
  },
  {
   "cell_type": "code",
   "execution_count": 49,
   "id": "859fea60-ee32-4805-aa07-94cbebf856c7",
   "metadata": {},
   "outputs": [],
   "source": [
    "# countries[0]"
   ]
  },
  {
   "cell_type": "markdown",
   "id": "85dd099e-0c5a-49a8-837b-0931e6760685",
   "metadata": {},
   "source": [
    "You can have a map that has any value type as its keys:"
   ]
  },
  {
   "cell_type": "code",
   "execution_count": 50,
   "id": "036651b8-d67e-4527-8f41-dcd60cf83af8",
   "metadata": {},
   "outputs": [],
   "source": [
    "holidays = {\n",
    "    datetime.date(2023, 1, 1): \"New Year's Day\",\n",
    "    datetime.date(2023, 8, 28): \"August Bank Holiday\",\n",
    "    datetime.date(2023, 12, 26): \"Boxing Day\"\n",
    "}"
   ]
  },
  {
   "cell_type": "code",
   "execution_count": 51,
   "id": "f2bd9eb5-9ff0-459d-9ee8-bc7162f2a9f0",
   "metadata": {},
   "outputs": [
    {
     "data": {
      "text/plain": [
       "'August Bank Holiday'"
      ]
     },
     "execution_count": 51,
     "metadata": {},
     "output_type": "execute_result"
    }
   ],
   "source": [
    "holidays[datetime.date(2023, 8, 28)]"
   ]
  },
  {
   "cell_type": "markdown",
   "id": "31ef0242-8c80-4e26-9c42-e28bb3827059",
   "metadata": {},
   "source": [
    "EXERCISE: Can you write a `dict` that works like our list of cities above?  That is, one in which you can access each city by the same integer index as in our list?"
   ]
  },
  {
   "cell_type": "code",
   "execution_count": 52,
   "id": "5a399fbc-95a5-46b7-8223-089b9a7026f8",
   "metadata": {},
   "outputs": [
    {
     "name": "stdout",
     "output_type": "stream",
     "text": [
      "Norwich\n",
      "Aberdeen\n"
     ]
    }
   ],
   "source": [
    "cities_dict = {\n",
    "    0: \"Norwich\",\n",
    "    1: \"London\",\n",
    "    2: \"Cardiff\",\n",
    "    3: \"Aberdeen\",\n",
    "    4: \"Belfast\"\n",
    "}\n",
    "print(cities_dict[0])\n",
    "print(cities_dict[3])"
   ]
  },
  {
   "cell_type": "markdown",
   "id": "8936384c-c157-4c4f-a480-742f405841d3",
   "metadata": {},
   "source": [
    "There's a lot more to be learned about how to modify and work with `list`s and `dict`s, which we will pick up as needed.  What is important to know, however, is that the style of accessing values within `list`s and `dict`s is commonly shared among many Python types - in fact many types are \"list-like\" or \"dict-like\" is some ways."
   ]
  },
  {
   "cell_type": "markdown",
   "id": "96bb08f0-1ab0-4321-b1aa-869527c51e0e",
   "metadata": {},
   "source": [
    "## Flow control: Iteration"
   ]
  },
  {
   "cell_type": "markdown",
   "id": "d99ddc7e-c57a-4608-b9ed-9a15922c2500",
   "metadata": {},
   "source": [
    "A common need in programming is that we want to repeat the same computation, but on different data.  For example, suppose we wanted to compute the squares of some integers.  We could proceed like the following:"
   ]
  },
  {
   "cell_type": "code",
   "execution_count": 53,
   "id": "3f4a2c9c-3cfa-4051-b6d6-f4f2ca33c661",
   "metadata": {},
   "outputs": [
    {
     "data": {
      "text/plain": [
       "1"
      ]
     },
     "execution_count": 53,
     "metadata": {},
     "output_type": "execute_result"
    }
   ],
   "source": [
    "1 ** 2"
   ]
  },
  {
   "cell_type": "code",
   "execution_count": 54,
   "id": "4c17f874-72ae-4930-849e-4172c83b198d",
   "metadata": {},
   "outputs": [
    {
     "data": {
      "text/plain": [
       "4"
      ]
     },
     "execution_count": 54,
     "metadata": {},
     "output_type": "execute_result"
    }
   ],
   "source": [
    "2 ** 2"
   ]
  },
  {
   "cell_type": "code",
   "execution_count": 55,
   "id": "fc664238-b28c-40e5-9d6a-49debf33466b",
   "metadata": {},
   "outputs": [
    {
     "data": {
      "text/plain": [
       "9"
      ]
     },
     "execution_count": 55,
     "metadata": {},
     "output_type": "execute_result"
    }
   ],
   "source": [
    "3 ** 2"
   ]
  },
  {
   "cell_type": "markdown",
   "id": "384addb9-e217-4967-85ee-5def15d41cf7",
   "metadata": {},
   "source": [
    "This approach is (obviously!) not very satisfying.  It's not very flexible, and, besides, one of the reasons we write programs is to **automate** tasks!\n",
    "\n",
    "The most common way to repeat a calculation with different data is to use a `for` loop.  Here's the `for` loop that will display the squares of the first 10 integers, using the function `print()` (which makes its first appearance for us, but you can probably guess what it does!)"
   ]
  },
  {
   "cell_type": "code",
   "execution_count": 56,
   "id": "58fe8096-ebba-45fb-afaf-e57d294d219e",
   "metadata": {},
   "outputs": [
    {
     "name": "stdout",
     "output_type": "stream",
     "text": [
      "1 1\n",
      "2 4\n",
      "3 9\n",
      "4 16\n",
      "5 25\n",
      "6 36\n",
      "7 49\n",
      "8 64\n",
      "9 81\n",
      "10 100\n"
     ]
    }
   ],
   "source": [
    "for num in [1, 2, 3, 4, 5, 6, 7, 8, 9, 10]:\n",
    "    print(num, num ** 2)"
   ]
  },
  {
   "cell_type": "markdown",
   "id": "cd0ce4b5-2755-4e0f-8ada-b61817a6f85b",
   "metadata": {},
   "source": [
    "In the above, we encounter for the first time a characteristic peculiarity of Python.  The line defining the iteration of the `for` loop ends in a colon, and the following code - the code that we want to be repeated - is then indented.  Python uses indentation to express the structure of your code.  This is different from almost all other languages - for example, languages like C or RE use curly braces `{` and `}` to mark this kind of structure."
   ]
  },
  {
   "cell_type": "markdown",
   "id": "10273ec8-bcfb-4db6-9def-957777b4cebe",
   "metadata": {},
   "source": [
    "EXERCISE: Whenever you have a value that is a string (type `str`), you can call `.upper()` on it to convert it to be all uppercase.  Using the list `cities` we defined earlier, write a `for` loop that prints those city names in uppercase."
   ]
  },
  {
   "cell_type": "code",
   "execution_count": 57,
   "id": "66f7b65a-3a67-48ca-abd7-686df7c6b0ad",
   "metadata": {},
   "outputs": [
    {
     "name": "stdout",
     "output_type": "stream",
     "text": [
      "NORWICH\n",
      "LONDON\n",
      "CARDIFF\n",
      "ABERDEEN\n",
      "BELFAST\n"
     ]
    }
   ],
   "source": [
    "for city in cities:\n",
    "    print(city.upper())"
   ]
  },
  {
   "cell_type": "markdown",
   "id": "6cfe00ab-f545-48bb-a933-d51f64debd75",
   "metadata": {},
   "source": [
    "## Flow control: Conditionals\n",
    "\n",
    "Sometimes, you only want to run some code when some condition is true.  This is accomplished by the `if`-`elif`-`else` statement in Python.\n",
    "\n",
    "For example, let's divide 100 by the numbers 5 down to 0.  Of course, we don't want to divide by zero - so we want to write some code to do something different in that case."
   ]
  },
  {
   "cell_type": "code",
   "execution_count": 58,
   "id": "b4794709-8ca4-41f0-af55-ec08862af5d4",
   "metadata": {},
   "outputs": [
    {
     "name": "stdout",
     "output_type": "stream",
     "text": [
      "5 20.0\n",
      "4 25.0\n",
      "3 33.333333333333336\n",
      "2 50.0\n",
      "1 100.0\n",
      "Dividing by zero is very naughty!\n"
     ]
    }
   ],
   "source": [
    "for num in [5, 4, 3, 2, 1, 0]:\n",
    "    if num == 0:\n",
    "        print(\"Dividing by zero is very naughty!\")\n",
    "    else:\n",
    "        print(num, 100 / num)"
   ]
  },
  {
   "cell_type": "markdown",
   "id": "24033d28-c840-40b9-a7f3-3b7848286485",
   "metadata": {},
   "source": [
    "Suppose now in addition, we only want to display the result if the number is **even**.  A number is even if it's divisible by 2.  Remember the remainder operator `%`?  That's exactly what we need to check for divisibility.\n",
    "\n",
    "To check multiple conditions in an `if` statement, we put the second (and any additional) conditions after an `elif` (short for \"else if\"):"
   ]
  },
  {
   "cell_type": "code",
   "execution_count": 59,
   "id": "d62825e8-05a6-41cb-91fc-d961d78f0f2a",
   "metadata": {},
   "outputs": [
    {
     "name": "stdout",
     "output_type": "stream",
     "text": [
      "5 is not an even number\n",
      "4 25.0\n",
      "3 is not an even number\n",
      "2 50.0\n",
      "1 is not an even number\n",
      "Dividing by zero is very naughty!\n"
     ]
    }
   ],
   "source": [
    "for num in [5, 4, 3, 2, 1, 0]:\n",
    "    if num == 0:\n",
    "        print(\"Dividing by zero is very naughty!\")\n",
    "    elif num % 2 == 0:\n",
    "        print(num, 100 / num)\n",
    "    else:\n",
    "        print(num, \"is not an even number\")"
   ]
  },
  {
   "cell_type": "markdown",
   "id": "ae7c5ae2-1c7f-45d0-9760-e1ca3417b009",
   "metadata": {},
   "source": [
    "## Errors, exceptions, and robust programming"
   ]
  },
  {
   "cell_type": "markdown",
   "id": "4cc031b5-508f-4a25-b106-4e8a5f018482",
   "metadata": {},
   "source": [
    "In the above, we guarded against dividing by zero by using an `if` statement.  What would have happened if we just carried on trying to divide by zero?  Let's see:"
   ]
  },
  {
   "cell_type": "code",
   "execution_count": 60,
   "id": "58fe3c6d-bc10-4889-8474-dc39cfc2a050",
   "metadata": {},
   "outputs": [
    {
     "ename": "ZeroDivisionError",
     "evalue": "division by zero",
     "output_type": "error",
     "traceback": [
      "\u001b[0;31m---------------------------------------------------------------------------\u001b[0m",
      "\u001b[0;31mZeroDivisionError\u001b[0m                         Traceback (most recent call last)",
      "\u001b[1;32m/Users/wangfan/VscodeProject/Jupyter/Workshop1_v1_answers.ipynb 单元格 110\u001b[0m line \u001b[0;36m1\n\u001b[0;32m----> <a href='vscode-notebook-cell:/Users/wangfan/VscodeProject/Jupyter/Workshop1_v1_answers.ipynb#Y214sZmlsZQ%3D%3D?line=0'>1</a>\u001b[0m \u001b[39m100\u001b[39;49m \u001b[39m/\u001b[39;49m \u001b[39m0\u001b[39;49m\n",
      "\u001b[0;31mZeroDivisionError\u001b[0m: division by zero"
     ]
    }
   ],
   "source": [
    "100 / 0"
   ]
  },
  {
   "cell_type": "markdown",
   "id": "b0d92cec-ae06-4f9f-9a3d-faabe307da72",
   "metadata": {},
   "source": [
    "A `ZeroDivisionError` is an example of an **exception** in Python.  An exception occurs (\"is raised\") whenever some type of error situation arises.  If we don't take any action in our program, Python will by default print some information about where the error occurred; Jupyter is helpful by adding some formatting and putting the error in a red box for us.\n",
    "\n",
    "We've seen some other exceptions earlier: a `NameError` in the case a variable is not defined, and a `KeyError` when we tried to access an element that didn't exist in a `dict`.  Likewise, `IndexError` occurs if you attempt to access an element of a list that's outside the number of elements the list has.\n",
    "\n",
    "Errors naturally arise in programming.  In particular, in the context of working with data, all manner of errors can arise because you don't know exactly what the contents of your data might be.  It's an essential and integral part of writing robust code to **handle** exceptions suitably.  The way to do this in Python is using a `try`/`except` statement.  For example"
   ]
  },
  {
   "cell_type": "code",
   "execution_count": null,
   "id": "5bfa6b55-cc85-4e08-acd1-ca5a7f57d3f2",
   "metadata": {},
   "outputs": [
    {
     "name": "stdout",
     "output_type": "stream",
     "text": [
      "Dividing by zero is very naughty!\n"
     ]
    }
   ],
   "source": [
    "try:\n",
    "    print(100 / 0)\n",
    "except ZeroDivisionError:\n",
    "    print(\"Dividing by zero is very naughty!\")"
   ]
  },
  {
   "cell_type": "markdown",
   "id": "4dc8b075-1bf1-4cfc-bc85-eb4a32f8afaa",
   "metadata": {},
   "source": [
    "In the above, the `ZeroDivisionError` is **\"caught\"** by the `except ZeroDivisionError:` **handler**, and then the code in that block is run, instead of reporting the exception.\n",
    "\n",
    "If no errors occur, then the code just executes normally and the `except` handler block is ignored:"
   ]
  },
  {
   "cell_type": "code",
   "execution_count": null,
   "id": "e57916f3-2a8c-48f0-979c-fe5943b65138",
   "metadata": {},
   "outputs": [
    {
     "name": "stdout",
     "output_type": "stream",
     "text": [
      "50.0\n"
     ]
    }
   ],
   "source": [
    "try:\n",
    "    print(100 / 2)\n",
    "except ZeroDivisionError:\n",
    "    print(\"Dividing by zero is very naughty!\")"
   ]
  },
  {
   "cell_type": "markdown",
   "id": "38a11fbb-d919-4b05-b36a-259a7eedf66b",
   "metadata": {},
   "source": [
    "So we have now seen two methods for dealing with (potential) errors.  We can check in advance with a suitable `if` statement, or we can handle them after they occur with an `except` statement.  Usually in Python, it's considered better style to handle exceptions - \"It's better to ask forgiveness than permission.\"  There's several reasons for this, but perhaps the most important - especially as a beginning programmer - is that it's hard to anticipate all the possible errors than can occur, and therefore difficult to write checks to make sure they don't happen.  Further, many of these error checks are already written in the libraries you will be using - those error checks are what create the exceptions in the first instance! - and so you are in some sense duplicating code if you use `if`/`else` to check."
   ]
  },
  {
   "cell_type": "markdown",
   "id": "1997c81c-4aa2-418c-b5c2-1ddb2fd3e065",
   "metadata": {},
   "source": [
    "EXERCISE: Re-write the `for` loop above using a `try`/`except` block to guard against dividing by zero, rather than using `if`/`else`."
   ]
  },
  {
   "cell_type": "code",
   "execution_count": 61,
   "id": "08678ae9-a8f4-4d2d-abc3-083805c6deab",
   "metadata": {},
   "outputs": [
    {
     "name": "stdout",
     "output_type": "stream",
     "text": [
      "4 25.0\n",
      "2 50.0\n",
      "Dividing by zero is very naughty!\n"
     ]
    }
   ],
   "source": [
    "for num in [5, 4, 3, 2, 1, 0]:\n",
    "    if num % 2 == 0:\n",
    "        try:\n",
    "            print(num, 100 / num)\n",
    "        except ZeroDivisionError: # 可以包括多变量\n",
    "            print(\"Dividing by zero is very naughty!\")\n",
    "    else:\n",
    "        print(num, \"is not an even number\") # for下的else比起if更类似try中的except(需要异常)"
   ]
  },
  {
   "cell_type": "markdown",
   "id": "0a4b1998-70f2-4442-b95a-de62287b5482",
   "metadata": {},
   "source": [
    "## Taking stock\n",
    "\n",
    "You now know enough Python to be dangerous! 😜\n",
    "\n",
    "We have skipped over **a lot** of details in the above.  This is intentional!  Our goal is to get up and running with working with data quickly, and for that it's enough to grasp some of the basic concepts and mechanics of Python.  Our approach will be to return to these concepts as needed and add further nuance and detail as and when needed.  Meanwhile, we are aiming to give you enough that you can also explore on your own, either independently on via any of the various tutorials you can find on the internet."
   ]
  },
  {
   "cell_type": "code",
   "execution_count": null,
   "id": "b383bd9b",
   "metadata": {},
   "outputs": [],
   "source": [
    " "
   ]
  },
  {
   "cell_type": "markdown",
   "id": "cc10dfac",
   "metadata": {},
   "source": []
  }
 ],
 "metadata": {
  "kernelspec": {
   "display_name": "Python 3 (ipykernel)",
   "language": "python",
   "name": "python3"
  },
  "language_info": {
   "codemirror_mode": {
    "name": "ipython",
    "version": 3
   },
   "file_extension": ".py",
   "mimetype": "text/x-python",
   "name": "python",
   "nbconvert_exporter": "python",
   "pygments_lexer": "ipython3",
   "version": "3.11.4"
  }
 },
 "nbformat": 4,
 "nbformat_minor": 5
}
